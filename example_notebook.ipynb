{
 "cells": [
  {
   "cell_type": "code",
   "execution_count": 1,
   "id": "f75b2fdf-5b6f-4315-bc16-54edec45aee6",
   "metadata": {},
   "outputs": [
    {
     "name": "stderr",
     "output_type": "stream",
     "text": [
      "2024-02-06 20:02:15.951726: E tensorflow/compiler/xla/stream_executor/cuda/cuda_dnn.cc:9342] Unable to register cuDNN factory: Attempting to register factory for plugin cuDNN when one has already been registered\n",
      "2024-02-06 20:02:15.951772: E tensorflow/compiler/xla/stream_executor/cuda/cuda_fft.cc:609] Unable to register cuFFT factory: Attempting to register factory for plugin cuFFT when one has already been registered\n",
      "2024-02-06 20:02:15.951800: E tensorflow/compiler/xla/stream_executor/cuda/cuda_blas.cc:1518] Unable to register cuBLAS factory: Attempting to register factory for plugin cuBLAS when one has already been registered\n"
     ]
    },
    {
     "data": {
      "text/plain": [
       "[PhysicalDevice(name='/physical_device:GPU:0', device_type='GPU')]"
      ]
     },
     "execution_count": 1,
     "metadata": {},
     "output_type": "execute_result"
    }
   ],
   "source": [
    "import os\n",
    "os.environ['TF_CPP_MIN_LOG_LEVEL'] = '2' \n",
    "\n",
    "import BFast\n",
    "import matplotlib\n",
    "import tensorflow as tf\n",
    "import numpy as np\n",
    "import matplotlib.pyplot as plt\n",
    "\n",
    "%matplotlib inline\n",
    "plt.rcParams.update({'font.size': 13})\n",
    "tf.config.list_physical_devices('GPU')"
   ]
  },
  {
   "cell_type": "code",
   "execution_count": 2,
   "id": "f32dd10f-c7b4-4dcb-b828-2ce418e59b07",
   "metadata": {
    "tags": []
   },
   "outputs": [],
   "source": [
    "BoxSize = 1000.\n",
    "kF = 2*np.pi/BoxSize\n",
    "grid = 256"
   ]
  },
  {
   "cell_type": "code",
   "execution_count": 3,
   "id": "05de5535-1302-4da4-ae7a-9d43caffadde",
   "metadata": {
    "tags": []
   },
   "outputs": [],
   "source": [
    "df = np.load(f\"/scratch/p301831/Quijote_Density_256/fiducial/0/df_m_256_PCS_fiducial_z=0_0.npy\")"
   ]
  },
  {
   "cell_type": "code",
   "execution_count": 4,
   "id": "f615b86e",
   "metadata": {},
   "outputs": [
    {
     "data": {
      "text/plain": [
       "0.0"
      ]
     },
     "execution_count": 4,
     "metadata": {},
     "output_type": "execute_result"
    }
   ],
   "source": [
    "tf.config.experimental.get_memory_info('GPU:0')['peak']*1e-9"
   ]
  },
  {
   "cell_type": "code",
   "execution_count": 5,
   "id": "2489a04c-97a0-4a32-89d8-9baeb1a41ec0",
   "metadata": {},
   "outputs": [
    {
     "name": "stdout",
     "output_type": "stream",
     "text": [
      "Help on function Bk_fast in module BFast.BFast:\n",
      "\n",
      "Bk_fast(delta, BoxSize, fc, dk, Nbins, triangle_type, MAS, verbose=False)\n",
      "\n"
     ]
    }
   ],
   "source": [
    "help(BFast.Bk_fast)"
   ]
  },
  {
   "cell_type": "code",
   "execution_count": 6,
   "id": "36fae5ae-ae0c-4921-870e-fd8f0f90f8de",
   "metadata": {
    "tags": []
   },
   "outputs": [
    {
     "name": "stdout",
     "output_type": "stream",
     "text": [
      "Loading Counts from BFast_BkCounts_LBox1000_Grid256_Binning3kF_fc3_NBins27_TriangleTypeAll.npy\n",
      "Considering 2276 Triangle Configurations (All)\n"
     ]
    },
    {
     "data": {
      "application/vnd.jupyter.widget-view+json": {
       "model_id": "982efef6fcbd4a1e8d93aab599e6e52b",
       "version_major": 2,
       "version_minor": 0
      },
      "text/plain": [
       "  0%|          | 0/27 [00:00<?, ?it/s]"
      ]
     },
     "metadata": {},
     "output_type": "display_data"
    },
    {
     "data": {
      "application/vnd.jupyter.widget-view+json": {
       "model_id": "e2c63b64b2484946a06bf41a34eb0147",
       "version_major": 2,
       "version_minor": 0
      },
      "text/plain": [
       "  0%|          | 0/2276 [00:00<?, ?it/s]"
      ]
     },
     "metadata": {},
     "output_type": "display_data"
    },
    {
     "name": "stdout",
     "output_type": "stream",
     "text": [
      "CPU times: user 4.72 s, sys: 329 ms, total: 5.05 s\n",
      "Wall time: 5.61 s\n"
     ]
    }
   ],
   "source": [
    "%time Bks_fast = BFast.Bk_fast(df,BoxSize,3.,3.,27,'All','PCS',verbose=True)"
   ]
  },
  {
   "cell_type": "code",
   "execution_count": 7,
   "id": "b41afefe",
   "metadata": {},
   "outputs": [
    {
     "data": {
      "text/plain": [
       "<tf.Tensor: shape=(127,), dtype=float32, numpy=\n",
       "array([18688.406  , 22529.615  , 30037.121  , 19273.088  , 17039.863  ,\n",
       "       14412.61   , 14084.808  , 11749.745  , 11234.328  ,  9906.004  ,\n",
       "        9120.76   ,  9325.433  ,  7681.0513 ,  6735.6416 ,  6143.11   ,\n",
       "        5701.615  ,  5021.995  ,  4748.8975 ,  4295.1104 ,  4393.804  ,\n",
       "        4008.431  ,  3770.1006 ,  3588.9797 ,  3357.935  ,  3173.344  ,\n",
       "        2934.3145 ,  2840.1682 ,  2645.1367 ,  2639.6636 ,  2517.2756 ,\n",
       "        2418.6365 ,  2339.0261 ,  2233.5781 ,  2143.2156 ,  2051.881  ,\n",
       "        1931.4678 ,  1930.0848 ,  1852.8134 ,  1748.8329 ,  1721.3241 ,\n",
       "        1689.2322 ,  1620.1259 ,  1572.6809 ,  1534.4303 ,  1501.58   ,\n",
       "        1493.9047 ,  1410.2218 ,  1403.105  ,  1341.7667 ,  1337.6892 ,\n",
       "        1276.4825 ,  1275.9375 ,  1238.793  ,  1215.5255 ,  1175.0359 ,\n",
       "        1162.3981 ,  1155.0438 ,  1114.981  ,  1095.9413 ,  1057.8424 ,\n",
       "        1061.5387 ,  1046.946  ,  1013.5709 ,  1006.6187 ,   986.8236 ,\n",
       "         970.8718 ,   952.9917 ,   943.57544,   934.3391 ,   920.0588 ,\n",
       "         898.56506,   889.8347 ,   877.7445 ,   870.8634 ,   848.5899 ,\n",
       "         840.8652 ,   831.57104,   821.55206,   806.86224,   800.37445,\n",
       "         784.33716,   788.79913,   767.5218 ,   771.2452 ,   754.4596 ,\n",
       "         750.4382 ,   740.2597 ,   728.63556,   720.23047,   713.7049 ,\n",
       "         704.18335,   698.5783 ,   688.83624,   680.7396 ,   678.9563 ,\n",
       "         666.46405,   664.2029 ,   658.327  ,   653.3175 ,   644.76086,\n",
       "         640.6412 ,   638.01025,   631.0394 ,   622.24725,   618.4927 ,\n",
       "         614.7195 ,   606.8104 ,   601.46405,   596.7944 ,   597.65857,\n",
       "         590.59985,   591.12054,   587.0394 ,   585.24445,   579.14465,\n",
       "         578.4806 ,   575.63086,   572.4321 ,   573.5574 ,   574.2425 ,\n",
       "         573.527  ,   575.02704,   579.8348 ,   579.41406,   581.2975 ,\n",
       "         587.3059 ,   594.96295], dtype=float32)>"
      ]
     },
     "execution_count": 7,
     "metadata": {},
     "output_type": "execute_result"
    }
   ],
   "source": [
    "BFast.Pk(df,1000.,'PCS')"
   ]
  },
  {
   "cell_type": "code",
   "execution_count": null,
   "id": "b606e9ad-af3f-4247-a77c-1a2630d5e1d9",
   "metadata": {
    "tags": []
   },
   "outputs": [
    {
     "name": "stdout",
     "output_type": "stream",
     "text": [
      "Loading Counts from BFast_BkCounts_LBox1000_Grid256_Binning3kF_fc3_NBins27_TriangleTypeAll.npy\n",
      "Considering 2276 Triangle Configurations (All)\n"
     ]
    },
    {
     "data": {
      "application/vnd.jupyter.widget-view+json": {
       "model_id": "f9fb2678f42440b4bb392e88fc202e26",
       "version_major": 2,
       "version_minor": 0
      },
      "text/plain": [
       "  0%|          | 0/27 [00:00<?, ?it/s]"
      ]
     },
     "metadata": {},
     "output_type": "display_data"
    },
    {
     "data": {
      "application/vnd.jupyter.widget-view+json": {
       "model_id": "1941d76bd7514134ad97286f4822d1cc",
       "version_major": 2,
       "version_minor": 0
      },
      "text/plain": [
       "  0%|          | 0/2276 [00:00<?, ?it/s]"
      ]
     },
     "metadata": {},
     "output_type": "display_data"
    },
    {
     "name": "stdout",
     "output_type": "stream",
     "text": [
      "CPU times: user 12.1 s, sys: 71 ms, total: 12.1 s\n",
      "Wall time: 12.4 s\n"
     ]
    }
   ],
   "source": [
    "%time Bks = BFast.Bk(df,BoxSize,3.,3.,27,'All','PCS',verbose=True)"
   ]
  },
  {
   "cell_type": "code",
   "execution_count": null,
   "id": "5dc85e77-14ca-455e-a5ae-37160c73a7d0",
   "metadata": {
    "tags": []
   },
   "outputs": [
    {
     "data": {
      "text/plain": [
       "[<matplotlib.lines.Line2D at 0x7efe2025a800>]"
      ]
     },
     "execution_count": 7,
     "metadata": {},
     "output_type": "execute_result"
    },
    {
     "data": {
      "image/png": "[encoded data removed]",
      "text/plain": [
       "<Figure size 640x480 with 1 Axes>"
      ]
     },
     "metadata": {},
     "output_type": "display_data"
    }
   ],
   "source": [
    "plt.semilogy(Bks_fast[:,-2])\n",
    "plt.semilogy(Bks[:,-2])"
   ]
  },
  {
   "cell_type": "code",
   "execution_count": null,
   "id": "c51fb610-a44b-4f4f-8b22-ffb4551e3171",
   "metadata": {},
   "outputs": [
    {
     "data": {
      "text/plain": [
       "<tf.Tensor: shape=(127,), dtype=float64, numpy=\n",
       "array([1.86788765e+04, 2.25029075e+04, 2.99666936e+04, 1.91962539e+04,\n",
       "       1.69377603e+04, 1.42927554e+04, 1.39283033e+04, 1.15829093e+04,\n",
       "       1.10341418e+04, 9.69144164e+03, 8.88365358e+03, 9.03962873e+03,\n",
       "       7.40515868e+03, 6.45685420e+03, 5.85443239e+03, 5.39925711e+03,\n",
       "       4.72349783e+03, 4.43396970e+03, 3.97956921e+03, 4.03874808e+03,\n",
       "       3.65348281e+03, 3.40585230e+03, 3.21217201e+03, 2.97670691e+03,\n",
       "       2.78508538e+03, 2.54768921e+03, 2.43949752e+03, 2.24658198e+03,\n",
       "       2.21595316e+03, 2.08785945e+03, 1.98104231e+03, 1.89106536e+03,\n",
       "       1.78190924e+03, 1.68652319e+03, 1.59190918e+03, 1.47679654e+03,\n",
       "       1.45386220e+03, 1.37433197e+03, 1.27687641e+03, 1.23667814e+03,\n",
       "       1.19358243e+03, 1.12540630e+03, 1.07334283e+03, 1.02857828e+03,\n",
       "       9.88387625e+02, 9.65234152e+02, 8.94003232e+02, 8.72177126e+02,\n",
       "       8.17582539e+02, 7.98620819e+02, 7.46362221e+02, 7.30318817e+02,\n",
       "       6.93820965e+02, 6.65885062e+02, 6.29462113e+02, 6.08569985e+02,\n",
       "       5.90792942e+02, 5.56930779e+02, 5.34317969e+02, 5.03179950e+02,\n",
       "       4.92461708e+02, 4.73447514e+02, 4.46559277e+02, 4.31976372e+02,\n",
       "       4.12311145e+02, 3.94730709e+02, 3.76916240e+02, 3.62839931e+02,\n",
       "       3.49124935e+02, 3.33993809e+02, 3.16821246e+02, 3.04472608e+02,\n",
       "       2.91320503e+02, 2.80231912e+02, 2.64677038e+02, 2.54108807e+02,\n",
       "       2.43369849e+02, 2.32791271e+02, 2.21214168e+02, 2.12213240e+02,\n",
       "       2.01033511e+02, 1.95304697e+02, 1.83559310e+02, 1.78038691e+02,\n",
       "       1.68059312e+02, 1.61171306e+02, 1.53304421e+02, 1.45406764e+02,\n",
       "       1.38430253e+02, 1.32005383e+02, 1.25331485e+02, 1.19561142e+02,\n",
       "       1.13342211e+02, 1.07621700e+02, 1.03093115e+02, 9.71539521e+01,\n",
       "       9.28970111e+01, 8.82590218e+01, 8.39685908e+01, 7.94069516e+01,\n",
       "       7.55608611e+01, 7.19955576e+01, 6.81096283e+01, 6.42410207e+01,\n",
       "       6.10036397e+01, 5.79290394e+01, 5.45846012e+01, 5.16197604e+01,\n",
       "       4.88713638e+01, 4.66377570e+01, 4.39036233e+01, 4.18461160e+01,\n",
       "       3.95475266e+01, 3.75031271e+01, 3.52641689e+01, 3.34864796e+01,\n",
       "       3.16265027e+01, 2.98473398e+01, 2.83652225e+01, 2.69212118e+01,\n",
       "       2.54574810e+01, 2.41658397e+01, 2.30623376e+01, 2.17727851e+01,\n",
       "       2.06401082e+01, 1.96902426e+01, 1.88250498e+01])>"
      ]
     },
     "execution_count": 8,
     "metadata": {},
     "output_type": "execute_result"
    }
   ],
   "source": [
    "%time BFast.Pk(df,1000.,MAS=None)"
   ]
  }
 ],
 "metadata": {
  "kernelspec": {
   "display_name": "tensorflow",
   "language": "python",
   "name": "python3"
  },
  "language_info": {
   "codemirror_mode": {
    "name": "ipython",
    "version": 3
   },
   "file_extension": ".py",
   "mimetype": "text/x-python",
   "name": "python",
   "nbconvert_exporter": "python",
   "pygments_lexer": "ipython3",
   "version": "3.10.4"
  }
 },
 "nbformat": 4,
 "nbformat_minor": 5
}
