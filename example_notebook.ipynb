{
 "cells": [
  {
   "cell_type": "markdown",
   "id": "2d673fcf-5b1e-4401-8fe7-4c0610e0dd21",
   "metadata": {},
   "source": [
    "# BFast\n",
    "A fast GPU based bispectrum estimator implemented with jax.\n",
    "\n",
    "It contains a fast, more memory heavy algorithm, that can compute the bispectrum of 2276 triangle configurations in a 256^3 box in less than a second on a V100/A100, using float32 precision (~2x for float64).\n",
    "\n",
    "There is also a slower, memory efficient algorithm for higher resolution grids or more bins. It computes the same 2276 triangle configurations in a 512^3 box in around 35 (70) seconds on an A100 (V100), using float32 precision (~2x for float64).\n",
    "\n",
    "Requirements:\n",
    "- numpy\n",
    "- jax\n",
    "- jax-tqdm\n",
    "- matplotlib (for example notebook)\n",
    "\n",
    "Installation: clone the repository and cd into the directory then install using 'pip install .' (optionally add the -e flag to install in developer mode)"
   ]
  },
  {
   "cell_type": "markdown",
   "id": "3280ebe3-a02b-42c3-b0de-efdf9c096567",
   "metadata": {},
   "source": [
    "# Demonstration"
   ]
  },
  {
   "cell_type": "code",
   "execution_count": null,
   "id": "f75b2fdf-5b6f-4315-bc16-54edec45aee6",
   "metadata": {},
   "outputs": [],
   "source": [
    "import os\n",
    "os.environ['CUDA_VISIBLE_DEVICES'] = '0'\n",
    "\n",
    "import BFast\n",
    "import numpy as np\n",
    "import matplotlib.pyplot as plt\n",
    "import jax\n",
    "import jax.numpy as jnp\n",
    "jax.device_count()"
   ]
  },
  {
   "cell_type": "code",
   "execution_count": null,
   "id": "f32dd10f-c7b4-4dcb-b828-2ce418e59b07",
   "metadata": {
    "tags": []
   },
   "outputs": [],
   "source": [
    "BoxSize = 1000.\n",
    "kF = 2*np.pi/BoxSize\n",
    "grid = 256"
   ]
  },
  {
   "cell_type": "code",
   "execution_count": null,
   "id": "05de5535-1302-4da4-ae7a-9d43caffadde",
   "metadata": {
    "tags": []
   },
   "outputs": [],
   "source": [
    "df = np.load(f\"df_m_256_PCS_z=0.npy\")\n",
    "df.dtype"
   ]
  },
  {
   "cell_type": "code",
   "execution_count": null,
   "id": "2489a04c-97a0-4a32-89d8-9baeb1a41ec0",
   "metadata": {},
   "outputs": [],
   "source": [
    "help(BFast.Bk)"
   ]
  },
  {
   "cell_type": "code",
   "execution_count": null,
   "id": "36fae5ae-ae0c-4921-870e-fd8f0f90f8de",
   "metadata": {
    "tags": []
   },
   "outputs": [],
   "source": [
    "%time Bks_32 = BFast.Bk(df,BoxSize,3.,3.,27,'All',MAS='PCS',fast=True,precision='float32',verbose=True)\n",
    "%time Bks_64 = BFast.Bk(df,BoxSize,3.,3.,27,'All',MAS='PCS',fast=True,precision='float64',verbose=True)"
   ]
  },
  {
   "cell_type": "code",
   "execution_count": null,
   "id": "9f6f1e6a-eaf6-4bde-984d-3fd74ea9880b",
   "metadata": {},
   "outputs": [],
   "source": [
    "plt.semilogy(Bks_32[:,-2])"
   ]
  },
  {
   "cell_type": "markdown",
   "id": "8d7fc01c-610e-446b-a6b9-81de07de8c9a",
   "metadata": {},
   "source": [
    "## The first time jax compiles certain parts and compute triangle counts, a next call is blazing fast:"
   ]
  },
  {
   "cell_type": "code",
   "execution_count": null,
   "id": "f68ef81f-9765-42ef-9b0c-ea3b2e71e4f7",
   "metadata": {},
   "outputs": [],
   "source": [
    "%time Bks_32 = BFast.Bk(df,BoxSize,3.,3.,27,'All',MAS='PCS',fast=True,precision='float32',verbose=True)\n",
    "%time Bks_64 = BFast.Bk(df,BoxSize,3.,3.,27,'All',MAS='PCS',fast=True,precision='float64',verbose=True)"
   ]
  },
  {
   "cell_type": "markdown",
   "id": "2f4f2ded-257e-4712-8817-d63a9c2139f2",
   "metadata": {},
   "source": [
    "## Float32 precision is very accurate but twice as fast:"
   ]
  },
  {
   "cell_type": "code",
   "execution_count": null,
   "id": "5ac110a1-5651-4899-a483-5d719804f6a2",
   "metadata": {},
   "outputs": [],
   "source": [
    "plt.semilogy(np.abs((Bks_32[:,-2]-Bks_64[:,-2])/Bks_64[:,-2]))"
   ]
  },
  {
   "cell_type": "markdown",
   "id": "2a1163a4-40ff-4944-87ce-de705310fc6e",
   "metadata": {},
   "source": [
    "## There is also a slower but more memory friendly algorithm for larger boxes or more bins"
   ]
  },
  {
   "cell_type": "code",
   "execution_count": null,
   "id": "b606e9ad-af3f-4247-a77c-1a2630d5e1d9",
   "metadata": {
    "tags": []
   },
   "outputs": [],
   "source": [
    "%time Bks_32_slow = BFast.Bk(df,BoxSize,3.,3.,27,'All',MAS='PCS',fast=False,precision='float32',verbose=True)\n",
    "%time Bks_64_slow = BFast.Bk(df,BoxSize,3.,3.,27,'All',MAS='PCS',fast=False,precision='float64',verbose=True)"
   ]
  },
  {
   "cell_type": "markdown",
   "id": "6d354229-6978-434a-93c7-48e8e05daa3f",
   "metadata": {},
   "source": [
    "## Again, Float32 precision is very accurate but twice as fast:"
   ]
  },
  {
   "cell_type": "code",
   "execution_count": null,
   "id": "5dc85e77-14ca-455e-a5ae-37160c73a7d0",
   "metadata": {
    "tags": []
   },
   "outputs": [],
   "source": [
    "plt.semilogy(np.abs((Bks_32_slow[:,-2]-Bks_64_slow[:,-2])/Bks_64_slow[:,-2]))"
   ]
  },
  {
   "cell_type": "markdown",
   "id": "a03b2ab2-a54b-4805-8489-65df153b330a",
   "metadata": {},
   "source": [
    "## There is also a power spectrum method with a binning of kF:"
   ]
  },
  {
   "cell_type": "code",
   "execution_count": null,
   "id": "938737ad-7220-47e2-a7c9-8b97c3f150e1",
   "metadata": {},
   "outputs": [],
   "source": [
    "help(BFast.Pk)"
   ]
  },
  {
   "cell_type": "code",
   "execution_count": null,
   "id": "39668664-3610-4736-b8b0-3f5b7239a21d",
   "metadata": {},
   "outputs": [],
   "source": [
    "Pks_32_left = BFast.Pk(df,1000.,MAS='PCS',left_inclusive=True,precision='float32')\n",
    "Pks_32_right = BFast.Pk(df,1000.,MAS='PCS',left_inclusive=False,precision='float32')\n",
    "Pks_64_left = BFast.Pk(df,1000.,MAS='PCS',left_inclusive=True,precision='float64')\n",
    "Pks_64_right = BFast.Pk(df,1000.,MAS='PCS',left_inclusive=False,precision='float64')\n",
    "\n",
    "plt.loglog(Pks_32_left[:,0],Pks_32_left[:,1])\n",
    "plt.loglog(Pks_32_right[:,0],Pks_32_right[:,1])"
   ]
  },
  {
   "cell_type": "code",
   "execution_count": null,
   "id": "132d6c21-3672-453c-be78-2c3cc8b4451d",
   "metadata": {},
   "outputs": [],
   "source": [
    "%time Pks_32_left = BFast.Pk(df,1000.,MAS='PCS',left_inclusive=True,precision='float32')\n",
    "%time Pks_32_right = BFast.Pk(df,1000.,MAS='PCS',left_inclusive=False,precision='float32')\n",
    "%time Pks_64_left = BFast.Pk(df,1000.,MAS='PCS',left_inclusive=True,precision='float64')\n",
    "%time Pks_64_right = BFast.Pk(df,1000.,MAS='PCS',left_inclusive=False,precision='float64')"
   ]
  },
  {
   "cell_type": "markdown",
   "id": "727c2549-c241-4fb1-9294-4cb9d799597e",
   "metadata": {},
   "source": [
    "## Float32 precision is very accurate, but the speed up is minimal in this case (at this grid size!)"
   ]
  },
  {
   "cell_type": "code",
   "execution_count": null,
   "id": "123c24d2-068a-4c0d-8b91-5d78767ea7af",
   "metadata": {},
   "outputs": [],
   "source": [
    "plt.loglog(Pks_64_left[:,0],np.abs((Pks_32_left[:,-2]-Pks_64_left[:,-2])/Pks_64_left[:,-2]))\n",
    "plt.show()\n",
    "plt.loglog(Pks_64_right[:,0],np.abs((Pks_32_right[:,-2]-Pks_64_right[:,-2])/Pks_64_right[:,-2]))\n",
    "plt.show()"
   ]
  }
 ],
 "metadata": {
  "kernelspec": {
   "display_name": "JAX CUDA12 (jax12)",
   "language": "python",
   "name": "jax12"
  },
  "language_info": {
   "codemirror_mode": {
    "name": "ipython",
    "version": 3
   },
   "file_extension": ".py",
   "mimetype": "text/x-python",
   "name": "python",
   "nbconvert_exporter": "python",
   "pygments_lexer": "ipython3",
   "version": "3.10.4"
  }
 },
 "nbformat": 4,
 "nbformat_minor": 5
}
